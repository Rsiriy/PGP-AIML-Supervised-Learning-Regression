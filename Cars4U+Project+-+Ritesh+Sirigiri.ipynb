{
 "cells": [
  {
   "cell_type": "markdown",
   "metadata": {},
   "source": [
    "# <center>Cars4U Project</center>"
   ]
  },
  {
   "cell_type": "markdown",
   "metadata": {},
   "source": [
    "### Description:"
   ]
  },
  {
   "cell_type": "markdown",
   "metadata": {},
   "source": [
    "There is a huge demand for used cars in the Indian Market today. As sales of new cars have slowed down in the recent past, the pre-owned car market has continued to grow over the past years and is larger than the new car market now. Cars4U is a budding tech start-up that aims to find footholes in this market."
   ]
  },
  {
   "cell_type": "markdown",
   "metadata": {},
   "source": [
    "### Premise:"
   ]
  },
  {
   "cell_type": "markdown",
   "metadata": {},
   "source": [
    "As a senior data scientist at Cars4U, you have to come up with a pricing model that can effectively predict the price of used cars and can help the business in devising profitable strategies using differential pricing. For example, if the business knows the market price, it will never sell anything below it. \n",
    "\n"
   ]
  },
  {
   "cell_type": "markdown",
   "metadata": {},
   "source": [
    "### Objective: "
   ]
  },
  {
   "cell_type": "markdown",
   "metadata": {},
   "source": [
    "The objective of this project is to further reinforce and understand the process of importing data, performing preprocessing, performing Exploratory Data Analysis (EDA) and finally build a linear regression model to predict the price of used cars."
   ]
  },
  {
   "cell_type": "markdown",
   "metadata": {},
   "source": [
    "### Dataset and Columns:"
   ]
  },
  {
   "cell_type": "markdown",
   "metadata": {},
   "source": [
    "The dataset we will be using is the Cars4U dataset which is comprised of used cars, their properties, and the price they sold at.\n",
    "\n",
    "1. S.No. : Serial Number\n",
    "1. Name : Name of the car which includes Brand name and Model name\n",
    "1. Location : The location in which the car is being sold or is available for purchase Cities\n",
    "1. Year : Manufacturing year of the car\n",
    "1. Kilometers_driven : The total kilometers driven in the car by the previous owner(s) in KM.\n",
    "1. Fuel_Type : The type of fuel used by the car. (Petrol, Diesel, Electric, CNG, LPG)\n",
    "1. Transmission : The type of transmission used by the car. (Automatic / Manual)\n",
    "1. Owner : Type of ownership\n",
    "1. Mileage : The standard mileage offered by the car company in kmpl or km/kg\n",
    "1. Engine : The displacement volume of the engine in CC.\n",
    "1. Power : The maximum power of the engine in bhp.\n",
    "1. Seats : The number of seats in the car.\n",
    "1. New_Price : The price of a new car of the same model in INR Lakhs.(1 Lakh = 100, 000)\n",
    "1. Price : The price of the used car in INR Lakhs (1 Lakh = 100, 000 rupees)"
   ]
  },
  {
   "cell_type": "markdown",
   "metadata": {},
   "source": [
    "# 1. Importing necessary libraries"
   ]
  },
  {
   "cell_type": "code",
   "execution_count": 1,
   "metadata": {},
   "outputs": [],
   "source": [
    "import numpy as np\n",
    "import pandas as pd \n",
    "import matplotlib.pyplot as plt\n",
    "%matplotlib inline\n",
    "import seaborn as sns \n",
    "import statsmodels.api as sm\n",
    "from sklearn.linear_model import LinearRegression\n",
    "from sklearn.model_selection import train_test_split\n",
    "from sklearn.metrics import mean_absolute_error, mean_squared_error, r2_score\n",
    "import warnings\n",
    "warnings.filterwarnings('ignore')"
   ]
  },
  {
   "cell_type": "markdown",
   "metadata": {},
   "source": [
    "# 2. Loading and exploring the dataset"
   ]
  },
  {
   "cell_type": "code",
   "execution_count": 2,
   "metadata": {},
   "outputs": [],
   "source": [
    "df = pd.read_csv(r'C:\\Users\\ritesh.sirigiri\\Downloads\\used_cars_data.csv')"
   ]
  },
  {
   "cell_type": "markdown",
   "metadata": {},
   "source": [
    "#### Observations:\n",
    "- There are 14 columns and 7,253 rows in the dataset"
   ]
  },
  {
   "cell_type": "code",
   "execution_count": 3,
   "metadata": {
    "scrolled": true
   },
   "outputs": [
    {
     "data": {
      "text/plain": [
       "(7253, 14)"
      ]
     },
     "execution_count": 3,
     "metadata": {},
     "output_type": "execute_result"
    }
   ],
   "source": [
    "df.shape"
   ]
  },
  {
   "cell_type": "markdown",
   "metadata": {},
   "source": [
    "#### Observations: \n",
    "- There are 3 main datatypes: Int, Float, and Object \n",
    "- There are missing values in several columns with 6,247 missing values in the New_Price column. \n",
    "- There are several columns with datatype Object that can be modified to a numerical datatype.\n",
    "- Engine and Power columns show same number of missing values. "
   ]
  },
  {
   "cell_type": "code",
   "execution_count": 4,
   "metadata": {},
   "outputs": [
    {
     "name": "stdout",
     "output_type": "stream",
     "text": [
      "<class 'pandas.core.frame.DataFrame'>\n",
      "RangeIndex: 7253 entries, 0 to 7252\n",
      "Data columns (total 14 columns):\n",
      " #   Column             Non-Null Count  Dtype  \n",
      "---  ------             --------------  -----  \n",
      " 0   S.No.              7253 non-null   int64  \n",
      " 1   Name               7253 non-null   object \n",
      " 2   Location           7253 non-null   object \n",
      " 3   Year               7253 non-null   int64  \n",
      " 4   Kilometers_Driven  7253 non-null   int64  \n",
      " 5   Fuel_Type          7253 non-null   object \n",
      " 6   Transmission       7253 non-null   object \n",
      " 7   Owner_Type         7253 non-null   object \n",
      " 8   Mileage            7251 non-null   object \n",
      " 9   Engine             7207 non-null   object \n",
      " 10  Power              7207 non-null   object \n",
      " 11  Seats              7200 non-null   float64\n",
      " 12  New_Price          1006 non-null   object \n",
      " 13  Price              6019 non-null   float64\n",
      "dtypes: float64(2), int64(3), object(9)\n",
      "memory usage: 793.4+ KB\n"
     ]
    }
   ],
   "source": [
    "df.info()"
   ]
  },
  {
   "cell_type": "markdown",
   "metadata": {},
   "source": [
    "#### Observations: \n",
    "- The S.No column is not useful for our analysis and will be dropped. \n",
    "- The New_Price column appears to have predominately null values, This column will be dropped.\n",
    "- Mileage, Engine, and Power column have string elements in them which will have to be removed during preprocessing. The datatype of the columns will then be converted to Float. \n",
    "- The Mileage column shows values that either end in \"km/kg\" or \"kmpl\". These will need to be converted into a single unit of measurement."
   ]
  },
  {
   "cell_type": "code",
   "execution_count": 5,
   "metadata": {},
   "outputs": [
    {
     "data": {
      "text/html": [
       "<div>\n",
       "<style scoped>\n",
       "    .dataframe tbody tr th:only-of-type {\n",
       "        vertical-align: middle;\n",
       "    }\n",
       "\n",
       "    .dataframe tbody tr th {\n",
       "        vertical-align: top;\n",
       "    }\n",
       "\n",
       "    .dataframe thead th {\n",
       "        text-align: right;\n",
       "    }\n",
       "</style>\n",
       "<table border=\"1\" class=\"dataframe\">\n",
       "  <thead>\n",
       "    <tr style=\"text-align: right;\">\n",
       "      <th></th>\n",
       "      <th>S.No.</th>\n",
       "      <th>Name</th>\n",
       "      <th>Location</th>\n",
       "      <th>Year</th>\n",
       "      <th>Kilometers_Driven</th>\n",
       "      <th>Fuel_Type</th>\n",
       "      <th>Transmission</th>\n",
       "      <th>Owner_Type</th>\n",
       "      <th>Mileage</th>\n",
       "      <th>Engine</th>\n",
       "      <th>Power</th>\n",
       "      <th>Seats</th>\n",
       "      <th>New_Price</th>\n",
       "      <th>Price</th>\n",
       "    </tr>\n",
       "  </thead>\n",
       "  <tbody>\n",
       "    <tr>\n",
       "      <th>0</th>\n",
       "      <td>0</td>\n",
       "      <td>Maruti Wagon R LXI CNG</td>\n",
       "      <td>Mumbai</td>\n",
       "      <td>2010</td>\n",
       "      <td>72000</td>\n",
       "      <td>CNG</td>\n",
       "      <td>Manual</td>\n",
       "      <td>First</td>\n",
       "      <td>26.6 km/kg</td>\n",
       "      <td>998 CC</td>\n",
       "      <td>58.16 bhp</td>\n",
       "      <td>5.0</td>\n",
       "      <td>NaN</td>\n",
       "      <td>1.75</td>\n",
       "    </tr>\n",
       "    <tr>\n",
       "      <th>1</th>\n",
       "      <td>1</td>\n",
       "      <td>Hyundai Creta 1.6 CRDi SX Option</td>\n",
       "      <td>Pune</td>\n",
       "      <td>2015</td>\n",
       "      <td>41000</td>\n",
       "      <td>Diesel</td>\n",
       "      <td>Manual</td>\n",
       "      <td>First</td>\n",
       "      <td>19.67 kmpl</td>\n",
       "      <td>1582 CC</td>\n",
       "      <td>126.2 bhp</td>\n",
       "      <td>5.0</td>\n",
       "      <td>NaN</td>\n",
       "      <td>12.50</td>\n",
       "    </tr>\n",
       "    <tr>\n",
       "      <th>2</th>\n",
       "      <td>2</td>\n",
       "      <td>Honda Jazz V</td>\n",
       "      <td>Chennai</td>\n",
       "      <td>2011</td>\n",
       "      <td>46000</td>\n",
       "      <td>Petrol</td>\n",
       "      <td>Manual</td>\n",
       "      <td>First</td>\n",
       "      <td>18.2 kmpl</td>\n",
       "      <td>1199 CC</td>\n",
       "      <td>88.7 bhp</td>\n",
       "      <td>5.0</td>\n",
       "      <td>8.61 Lakh</td>\n",
       "      <td>4.50</td>\n",
       "    </tr>\n",
       "    <tr>\n",
       "      <th>3</th>\n",
       "      <td>3</td>\n",
       "      <td>Maruti Ertiga VDI</td>\n",
       "      <td>Chennai</td>\n",
       "      <td>2012</td>\n",
       "      <td>87000</td>\n",
       "      <td>Diesel</td>\n",
       "      <td>Manual</td>\n",
       "      <td>First</td>\n",
       "      <td>20.77 kmpl</td>\n",
       "      <td>1248 CC</td>\n",
       "      <td>88.76 bhp</td>\n",
       "      <td>7.0</td>\n",
       "      <td>NaN</td>\n",
       "      <td>6.00</td>\n",
       "    </tr>\n",
       "    <tr>\n",
       "      <th>4</th>\n",
       "      <td>4</td>\n",
       "      <td>Audi A4 New 2.0 TDI Multitronic</td>\n",
       "      <td>Coimbatore</td>\n",
       "      <td>2013</td>\n",
       "      <td>40670</td>\n",
       "      <td>Diesel</td>\n",
       "      <td>Automatic</td>\n",
       "      <td>Second</td>\n",
       "      <td>15.2 kmpl</td>\n",
       "      <td>1968 CC</td>\n",
       "      <td>140.8 bhp</td>\n",
       "      <td>5.0</td>\n",
       "      <td>NaN</td>\n",
       "      <td>17.74</td>\n",
       "    </tr>\n",
       "  </tbody>\n",
       "</table>\n",
       "</div>"
      ],
      "text/plain": [
       "   S.No.                              Name    Location  Year  \\\n",
       "0      0            Maruti Wagon R LXI CNG      Mumbai  2010   \n",
       "1      1  Hyundai Creta 1.6 CRDi SX Option        Pune  2015   \n",
       "2      2                      Honda Jazz V     Chennai  2011   \n",
       "3      3                 Maruti Ertiga VDI     Chennai  2012   \n",
       "4      4   Audi A4 New 2.0 TDI Multitronic  Coimbatore  2013   \n",
       "\n",
       "   Kilometers_Driven Fuel_Type Transmission Owner_Type     Mileage   Engine  \\\n",
       "0              72000       CNG       Manual      First  26.6 km/kg   998 CC   \n",
       "1              41000    Diesel       Manual      First  19.67 kmpl  1582 CC   \n",
       "2              46000    Petrol       Manual      First   18.2 kmpl  1199 CC   \n",
       "3              87000    Diesel       Manual      First  20.77 kmpl  1248 CC   \n",
       "4              40670    Diesel    Automatic     Second   15.2 kmpl  1968 CC   \n",
       "\n",
       "       Power  Seats  New_Price  Price  \n",
       "0  58.16 bhp    5.0        NaN   1.75  \n",
       "1  126.2 bhp    5.0        NaN  12.50  \n",
       "2   88.7 bhp    5.0  8.61 Lakh   4.50  \n",
       "3  88.76 bhp    7.0        NaN   6.00  \n",
       "4  140.8 bhp    5.0        NaN  17.74  "
      ]
     },
     "execution_count": 5,
     "metadata": {},
     "output_type": "execute_result"
    }
   ],
   "source": [
    "df.head()"
   ]
  },
  {
   "cell_type": "code",
   "execution_count": 6,
   "metadata": {},
   "outputs": [],
   "source": [
    "# The Serial Number column is unncessary for our analysis and was dropped. \n",
    "# The New_Price column isn't relevant for our anaylsis and was also dropped as the goal is to build a model to predict used prices. \n",
    "df.drop(columns = [\"S.No.\", \"New_Price\"], inplace=True)"
   ]
  },
  {
   "cell_type": "markdown",
   "metadata": {},
   "source": [
    "#### Observations: \n",
    "- The Name, Location, Fuel_Type, Transmission, Owner_Type, Mileage, Engine, Power, and New_Price columns are missing. \n",
    "- The Price column shows a significant difference between the mean and median.  \n",
    "- The kilometers_Driven column shows a \"used\" car with as low as 171 miles in the minimum column. \n",
    "- The Seats column shows a minimum value of 0 which logically does not make sense as cars would minimum have one seat."
   ]
  },
  {
   "cell_type": "code",
   "execution_count": 7,
   "metadata": {
    "scrolled": true
   },
   "outputs": [
    {
     "data": {
      "text/html": [
       "<div>\n",
       "<style scoped>\n",
       "    .dataframe tbody tr th:only-of-type {\n",
       "        vertical-align: middle;\n",
       "    }\n",
       "\n",
       "    .dataframe tbody tr th {\n",
       "        vertical-align: top;\n",
       "    }\n",
       "\n",
       "    .dataframe thead th {\n",
       "        text-align: right;\n",
       "    }\n",
       "</style>\n",
       "<table border=\"1\" class=\"dataframe\">\n",
       "  <thead>\n",
       "    <tr style=\"text-align: right;\">\n",
       "      <th></th>\n",
       "      <th>count</th>\n",
       "      <th>mean</th>\n",
       "      <th>std</th>\n",
       "      <th>min</th>\n",
       "      <th>25%</th>\n",
       "      <th>50%</th>\n",
       "      <th>75%</th>\n",
       "      <th>max</th>\n",
       "    </tr>\n",
       "  </thead>\n",
       "  <tbody>\n",
       "    <tr>\n",
       "      <th>Year</th>\n",
       "      <td>7253.0</td>\n",
       "      <td>2013.365366</td>\n",
       "      <td>3.254421</td>\n",
       "      <td>1996.00</td>\n",
       "      <td>2011.0</td>\n",
       "      <td>2014.00</td>\n",
       "      <td>2016.00</td>\n",
       "      <td>2019.0</td>\n",
       "    </tr>\n",
       "    <tr>\n",
       "      <th>Kilometers_Driven</th>\n",
       "      <td>7253.0</td>\n",
       "      <td>58699.063146</td>\n",
       "      <td>84427.720583</td>\n",
       "      <td>171.00</td>\n",
       "      <td>34000.0</td>\n",
       "      <td>53416.00</td>\n",
       "      <td>73000.00</td>\n",
       "      <td>6500000.0</td>\n",
       "    </tr>\n",
       "    <tr>\n",
       "      <th>Seats</th>\n",
       "      <td>7200.0</td>\n",
       "      <td>5.279722</td>\n",
       "      <td>0.811660</td>\n",
       "      <td>0.00</td>\n",
       "      <td>5.0</td>\n",
       "      <td>5.00</td>\n",
       "      <td>5.00</td>\n",
       "      <td>10.0</td>\n",
       "    </tr>\n",
       "    <tr>\n",
       "      <th>Price</th>\n",
       "      <td>6019.0</td>\n",
       "      <td>9.479468</td>\n",
       "      <td>11.187917</td>\n",
       "      <td>0.44</td>\n",
       "      <td>3.5</td>\n",
       "      <td>5.64</td>\n",
       "      <td>9.95</td>\n",
       "      <td>160.0</td>\n",
       "    </tr>\n",
       "  </tbody>\n",
       "</table>\n",
       "</div>"
      ],
      "text/plain": [
       "                    count          mean           std      min      25%  \\\n",
       "Year               7253.0   2013.365366      3.254421  1996.00   2011.0   \n",
       "Kilometers_Driven  7253.0  58699.063146  84427.720583   171.00  34000.0   \n",
       "Seats              7200.0      5.279722      0.811660     0.00      5.0   \n",
       "Price              6019.0      9.479468     11.187917     0.44      3.5   \n",
       "\n",
       "                        50%       75%        max  \n",
       "Year                2014.00   2016.00     2019.0  \n",
       "Kilometers_Driven  53416.00  73000.00  6500000.0  \n",
       "Seats                  5.00      5.00       10.0  \n",
       "Price                  5.64      9.95      160.0  "
      ]
     },
     "execution_count": 7,
     "metadata": {},
     "output_type": "execute_result"
    }
   ],
   "source": [
    "df.describe().T"
   ]
  },
  {
   "cell_type": "markdown",
   "metadata": {},
   "source": [
    "#### Observations: \n",
    "- Engine and Power column both show the same numbe of missing values. We can possibly make the assumption that the same rows have the same missing data for these two columns."
   ]
  },
  {
   "cell_type": "code",
   "execution_count": 8,
   "metadata": {
    "scrolled": true
   },
   "outputs": [
    {
     "data": {
      "text/plain": [
       "Name                    0\n",
       "Location                0\n",
       "Year                    0\n",
       "Kilometers_Driven       0\n",
       "Fuel_Type               0\n",
       "Transmission            0\n",
       "Owner_Type              0\n",
       "Mileage                 2\n",
       "Engine                 46\n",
       "Power                  46\n",
       "Seats                  53\n",
       "Price                1234\n",
       "dtype: int64"
      ]
     },
     "execution_count": 8,
     "metadata": {},
     "output_type": "execute_result"
    }
   ],
   "source": [
    "df.isnull().sum()"
   ]
  },
  {
   "cell_type": "markdown",
   "metadata": {},
   "source": [
    "# 3. Preprocessing the columns with the correct datatypes"
   ]
  },
  {
   "cell_type": "markdown",
   "metadata": {},
   "source": [
    "#### Converting Location, Fuel_Type, Transmission, Owner_Type, and Seats columns to categorical columns. "
   ]
  },
  {
   "cell_type": "code",
   "execution_count": 9,
   "metadata": {
    "scrolled": true
   },
   "outputs": [],
   "source": [
    "cols_category = [\"Location\", \"Fuel_Type\", \"Transmission\", \"Owner_Type\", \"Seats\"]\n",
    "df[cols_category] = df[cols_category].astype(\"category\")"
   ]
  },
  {
   "cell_type": "code",
   "execution_count": 10,
   "metadata": {},
   "outputs": [
    {
     "name": "stdout",
     "output_type": "stream",
     "text": [
      "<class 'pandas.core.frame.DataFrame'>\n",
      "RangeIndex: 7253 entries, 0 to 7252\n",
      "Data columns (total 12 columns):\n",
      " #   Column             Non-Null Count  Dtype   \n",
      "---  ------             --------------  -----   \n",
      " 0   Name               7253 non-null   object  \n",
      " 1   Location           7253 non-null   category\n",
      " 2   Year               7253 non-null   int64   \n",
      " 3   Kilometers_Driven  7253 non-null   int64   \n",
      " 4   Fuel_Type          7253 non-null   category\n",
      " 5   Transmission       7253 non-null   category\n",
      " 6   Owner_Type         7253 non-null   category\n",
      " 7   Mileage            7251 non-null   object  \n",
      " 8   Engine             7207 non-null   object  \n",
      " 9   Power              7207 non-null   object  \n",
      " 10  Seats              7200 non-null   category\n",
      " 11  Price              6019 non-null   float64 \n",
      "dtypes: category(5), float64(1), int64(2), object(4)\n",
      "memory usage: 433.4+ KB\n"
     ]
    }
   ],
   "source": [
    "df.info()"
   ]
  },
  {
   "cell_type": "markdown",
   "metadata": {},
   "source": [
    "#### Processing mileage column and converting into numerical column"
   ]
  },
  {
   "cell_type": "code",
   "execution_count": 11,
   "metadata": {
    "scrolled": true
   },
   "outputs": [],
   "source": [
    "#There were two units for representing gas mileage. Both are being dropped and the column is being coverted to numeric. \n",
    "def mileage_to_num(mileage):\n",
    "    if isinstance(mileage, str):  \n",
    "        return float(mileage.replace('km/kg', '').replace('kmpl', ''))\n",
    "    else: \n",
    "        return np.nan\n",
    "\n",
    "df[\"Mileage\"] = df[\"Mileage\"].apply(mileage_to_num)"
   ]
  },
  {
   "cell_type": "code",
   "execution_count": 12,
   "metadata": {},
   "outputs": [
    {
     "data": {
      "text/plain": [
       "count    7251.000000\n",
       "mean       18.141580\n",
       "std         4.562197\n",
       "min         0.000000\n",
       "25%        15.170000\n",
       "50%        18.160000\n",
       "75%        21.100000\n",
       "max        33.540000\n",
       "Name: Mileage, dtype: float64"
      ]
     },
     "execution_count": 12,
     "metadata": {},
     "output_type": "execute_result"
    }
   ],
   "source": [
    "df.Mileage.describe()"
   ]
  },
  {
   "cell_type": "markdown",
   "metadata": {},
   "source": [
    "#### Processing Engine column and converting into numerical column"
   ]
  },
  {
   "cell_type": "code",
   "execution_count": 13,
   "metadata": {},
   "outputs": [],
   "source": [
    "#Converting Engine column to float\n",
    "def engine_to_num(engine):\n",
    "    if isinstance(engine, str):\n",
    "        return float(engine.replace('CC', ''))\n",
    "    else:  \n",
    "        return np.nan\n",
    "\n",
    "df[\"Engine\"] = df[\"Engine\"].apply(engine_to_num)"
   ]
  },
  {
   "cell_type": "code",
   "execution_count": 14,
   "metadata": {},
   "outputs": [
    {
     "data": {
      "text/plain": [
       "count    7207.000000\n",
       "mean     1616.573470\n",
       "std       595.285137\n",
       "min        72.000000\n",
       "25%      1198.000000\n",
       "50%      1493.000000\n",
       "75%      1968.000000\n",
       "max      5998.000000\n",
       "Name: Engine, dtype: float64"
      ]
     },
     "execution_count": 14,
     "metadata": {},
     "output_type": "execute_result"
    }
   ],
   "source": [
    "df.Engine.describe()"
   ]
  },
  {
   "cell_type": "markdown",
   "metadata": {},
   "source": [
    "#### Processing Power column and converting into numerical column"
   ]
  },
  {
   "cell_type": "code",
   "execution_count": 15,
   "metadata": {},
   "outputs": [],
   "source": [
    "#Converting Power column to float\n",
    "def power_to_num(power):\n",
    "    if isinstance(power, str):\n",
    "        return float(power.replace('bhp', '').replace(\"null\", \"0\")) \n",
    "        return \n",
    "    else: \n",
    "        return np.nan\n",
    "\n",
    "df[\"Power\"] = df[\"Power\"].apply(power_to_num)\n",
    "\n",
    "df['Power'] = df['Power'].replace(0,df['Power'].median())"
   ]
  },
  {
   "cell_type": "code",
   "execution_count": 16,
   "metadata": {
    "scrolled": true
   },
   "outputs": [
    {
     "data": {
      "text/plain": [
       "count    7207.000000\n",
       "mean      112.388520\n",
       "std        53.085969\n",
       "min        34.200000\n",
       "25%        76.800000\n",
       "50%        91.720000\n",
       "75%       138.030000\n",
       "max       616.000000\n",
       "Name: Power, dtype: float64"
      ]
     },
     "execution_count": 16,
     "metadata": {},
     "output_type": "execute_result"
    }
   ],
   "source": [
    "df.Power.describe()"
   ]
  },
  {
   "cell_type": "markdown",
   "metadata": {},
   "source": [
    "# 4. Preprocessing the columns to deal with missing values"
   ]
  },
  {
   "cell_type": "markdown",
   "metadata": {},
   "source": [
    "#### Observations: \n",
    "- There are 5 columns with some missing values\n",
    "- as we will be using the Price column for data analysis, I am opting to drop all null values the Price column instead of filling it with the mean value. \n",
    "- I will be filling the Mileage, Engine, Power, and Seats column with their respective mean values. "
   ]
  },
  {
   "cell_type": "code",
   "execution_count": 17,
   "metadata": {
    "scrolled": false
   },
   "outputs": [
    {
     "name": "stdout",
     "output_type": "stream",
     "text": [
      "<class 'pandas.core.frame.DataFrame'>\n",
      "RangeIndex: 7253 entries, 0 to 7252\n",
      "Data columns (total 12 columns):\n",
      " #   Column             Non-Null Count  Dtype   \n",
      "---  ------             --------------  -----   \n",
      " 0   Name               7253 non-null   object  \n",
      " 1   Location           7253 non-null   category\n",
      " 2   Year               7253 non-null   int64   \n",
      " 3   Kilometers_Driven  7253 non-null   int64   \n",
      " 4   Fuel_Type          7253 non-null   category\n",
      " 5   Transmission       7253 non-null   category\n",
      " 6   Owner_Type         7253 non-null   category\n",
      " 7   Mileage            7251 non-null   float64 \n",
      " 8   Engine             7207 non-null   float64 \n",
      " 9   Power              7207 non-null   float64 \n",
      " 10  Seats              7200 non-null   category\n",
      " 11  Price              6019 non-null   float64 \n",
      "dtypes: category(5), float64(4), int64(2), object(1)\n",
      "memory usage: 433.4+ KB\n"
     ]
    }
   ],
   "source": [
    "df.info()"
   ]
  },
  {
   "cell_type": "markdown",
   "metadata": {},
   "source": [
    "##### Filling Mileage, Engine, Power, and Seats columns with their mean values. "
   ]
  },
  {
   "cell_type": "code",
   "execution_count": 18,
   "metadata": {},
   "outputs": [],
   "source": [
    "cols_mean = [\"Mileage\", \"Engine\", \"Power\"]\n",
    "df[cols_mean]=df[cols_mean].fillna(df[cols_mean].median().iloc[0])"
   ]
  },
  {
   "cell_type": "code",
   "execution_count": 19,
   "metadata": {
    "scrolled": true
   },
   "outputs": [
    {
     "name": "stdout",
     "output_type": "stream",
     "text": [
      "<class 'pandas.core.frame.DataFrame'>\n",
      "RangeIndex: 7253 entries, 0 to 7252\n",
      "Data columns (total 12 columns):\n",
      " #   Column             Non-Null Count  Dtype   \n",
      "---  ------             --------------  -----   \n",
      " 0   Name               7253 non-null   object  \n",
      " 1   Location           7253 non-null   category\n",
      " 2   Year               7253 non-null   int64   \n",
      " 3   Kilometers_Driven  7253 non-null   int64   \n",
      " 4   Fuel_Type          7253 non-null   category\n",
      " 5   Transmission       7253 non-null   category\n",
      " 6   Owner_Type         7253 non-null   category\n",
      " 7   Mileage            7253 non-null   float64 \n",
      " 8   Engine             7253 non-null   float64 \n",
      " 9   Power              7253 non-null   float64 \n",
      " 10  Seats              7200 non-null   category\n",
      " 11  Price              6019 non-null   float64 \n",
      "dtypes: category(5), float64(4), int64(2), object(1)\n",
      "memory usage: 433.4+ KB\n"
     ]
    }
   ],
   "source": [
    "df.info()"
   ]
  },
  {
   "cell_type": "markdown",
   "metadata": {},
   "source": [
    "#### Dropping null values in dataframe"
   ]
  },
  {
   "cell_type": "code",
   "execution_count": 20,
   "metadata": {
    "scrolled": false
   },
   "outputs": [],
   "source": [
    "df.dropna(inplace=True)"
   ]
  },
  {
   "cell_type": "markdown",
   "metadata": {},
   "source": [
    "### Final Observtions after preprocessing: \n",
    "- There are 11 unique locations with Mumbai being the top location for car sales.\n",
    "- The oldest car in the dataset is from 1998 while the newest car is from 2019\n",
    "- There are used cars with as little as 171 kilometers although there is a max of 6.5 million kilometers (needs further analysis)\n",
    "- There are 5 unique fuel types with the top fuel type for used cars being Diesel \n",
    "- There are 2 unique transmission types with the top transmission type being Manual \n",
    "- There are 4 unique owner types wit hthe most common owner being the first owner\n",
    "- There are 9 unique seat configurations with the most common number of seats being 5 \n",
    "- The average price for a used car is 9.5 lakhs"
   ]
  },
  {
   "cell_type": "code",
   "execution_count": 21,
   "metadata": {
    "scrolled": false
   },
   "outputs": [
    {
     "data": {
      "text/html": [
       "<div>\n",
       "<style scoped>\n",
       "    .dataframe tbody tr th:only-of-type {\n",
       "        vertical-align: middle;\n",
       "    }\n",
       "\n",
       "    .dataframe tbody tr th {\n",
       "        vertical-align: top;\n",
       "    }\n",
       "\n",
       "    .dataframe thead th {\n",
       "        text-align: right;\n",
       "    }\n",
       "</style>\n",
       "<table border=\"1\" class=\"dataframe\">\n",
       "  <thead>\n",
       "    <tr style=\"text-align: right;\">\n",
       "      <th></th>\n",
       "      <th>count</th>\n",
       "      <th>unique</th>\n",
       "      <th>top</th>\n",
       "      <th>freq</th>\n",
       "      <th>mean</th>\n",
       "      <th>std</th>\n",
       "      <th>min</th>\n",
       "      <th>25%</th>\n",
       "      <th>50%</th>\n",
       "      <th>75%</th>\n",
       "      <th>max</th>\n",
       "    </tr>\n",
       "  </thead>\n",
       "  <tbody>\n",
       "    <tr>\n",
       "      <th>Name</th>\n",
       "      <td>5977</td>\n",
       "      <td>1857</td>\n",
       "      <td>Mahindra XUV500 W8 2WD</td>\n",
       "      <td>49</td>\n",
       "      <td>NaN</td>\n",
       "      <td>NaN</td>\n",
       "      <td>NaN</td>\n",
       "      <td>NaN</td>\n",
       "      <td>NaN</td>\n",
       "      <td>NaN</td>\n",
       "      <td>NaN</td>\n",
       "    </tr>\n",
       "    <tr>\n",
       "      <th>Location</th>\n",
       "      <td>5977</td>\n",
       "      <td>11</td>\n",
       "      <td>Mumbai</td>\n",
       "      <td>785</td>\n",
       "      <td>NaN</td>\n",
       "      <td>NaN</td>\n",
       "      <td>NaN</td>\n",
       "      <td>NaN</td>\n",
       "      <td>NaN</td>\n",
       "      <td>NaN</td>\n",
       "      <td>NaN</td>\n",
       "    </tr>\n",
       "    <tr>\n",
       "      <th>Year</th>\n",
       "      <td>5977</td>\n",
       "      <td>NaN</td>\n",
       "      <td>NaN</td>\n",
       "      <td>NaN</td>\n",
       "      <td>2013.39</td>\n",
       "      <td>3.24702</td>\n",
       "      <td>1998</td>\n",
       "      <td>2012</td>\n",
       "      <td>2014</td>\n",
       "      <td>2016</td>\n",
       "      <td>2019</td>\n",
       "    </tr>\n",
       "    <tr>\n",
       "      <th>Kilometers_Driven</th>\n",
       "      <td>5977</td>\n",
       "      <td>NaN</td>\n",
       "      <td>NaN</td>\n",
       "      <td>NaN</td>\n",
       "      <td>58670.4</td>\n",
       "      <td>91543.5</td>\n",
       "      <td>171</td>\n",
       "      <td>33915</td>\n",
       "      <td>53000</td>\n",
       "      <td>73000</td>\n",
       "      <td>6.5e+06</td>\n",
       "    </tr>\n",
       "    <tr>\n",
       "      <th>Fuel_Type</th>\n",
       "      <td>5977</td>\n",
       "      <td>5</td>\n",
       "      <td>Diesel</td>\n",
       "      <td>3195</td>\n",
       "      <td>NaN</td>\n",
       "      <td>NaN</td>\n",
       "      <td>NaN</td>\n",
       "      <td>NaN</td>\n",
       "      <td>NaN</td>\n",
       "      <td>NaN</td>\n",
       "      <td>NaN</td>\n",
       "    </tr>\n",
       "    <tr>\n",
       "      <th>Transmission</th>\n",
       "      <td>5977</td>\n",
       "      <td>2</td>\n",
       "      <td>Manual</td>\n",
       "      <td>4266</td>\n",
       "      <td>NaN</td>\n",
       "      <td>NaN</td>\n",
       "      <td>NaN</td>\n",
       "      <td>NaN</td>\n",
       "      <td>NaN</td>\n",
       "      <td>NaN</td>\n",
       "      <td>NaN</td>\n",
       "    </tr>\n",
       "    <tr>\n",
       "      <th>Owner_Type</th>\n",
       "      <td>5977</td>\n",
       "      <td>4</td>\n",
       "      <td>First</td>\n",
       "      <td>4905</td>\n",
       "      <td>NaN</td>\n",
       "      <td>NaN</td>\n",
       "      <td>NaN</td>\n",
       "      <td>NaN</td>\n",
       "      <td>NaN</td>\n",
       "      <td>NaN</td>\n",
       "      <td>NaN</td>\n",
       "    </tr>\n",
       "    <tr>\n",
       "      <th>Mileage</th>\n",
       "      <td>5977</td>\n",
       "      <td>NaN</td>\n",
       "      <td>NaN</td>\n",
       "      <td>NaN</td>\n",
       "      <td>18.1794</td>\n",
       "      <td>4.52104</td>\n",
       "      <td>0</td>\n",
       "      <td>15.2</td>\n",
       "      <td>18.16</td>\n",
       "      <td>21.1</td>\n",
       "      <td>33.54</td>\n",
       "    </tr>\n",
       "    <tr>\n",
       "      <th>Engine</th>\n",
       "      <td>5977</td>\n",
       "      <td>NaN</td>\n",
       "      <td>NaN</td>\n",
       "      <td>NaN</td>\n",
       "      <td>1621.38</td>\n",
       "      <td>601.275</td>\n",
       "      <td>72</td>\n",
       "      <td>1198</td>\n",
       "      <td>1493</td>\n",
       "      <td>1984</td>\n",
       "      <td>5998</td>\n",
       "    </tr>\n",
       "    <tr>\n",
       "      <th>Power</th>\n",
       "      <td>5977</td>\n",
       "      <td>NaN</td>\n",
       "      <td>NaN</td>\n",
       "      <td>NaN</td>\n",
       "      <td>112.887</td>\n",
       "      <td>53.4907</td>\n",
       "      <td>34.2</td>\n",
       "      <td>77</td>\n",
       "      <td>92.7</td>\n",
       "      <td>138.1</td>\n",
       "      <td>560</td>\n",
       "    </tr>\n",
       "    <tr>\n",
       "      <th>Seats</th>\n",
       "      <td>5977</td>\n",
       "      <td>9</td>\n",
       "      <td>5</td>\n",
       "      <td>5014</td>\n",
       "      <td>NaN</td>\n",
       "      <td>NaN</td>\n",
       "      <td>NaN</td>\n",
       "      <td>NaN</td>\n",
       "      <td>NaN</td>\n",
       "      <td>NaN</td>\n",
       "      <td>NaN</td>\n",
       "    </tr>\n",
       "    <tr>\n",
       "      <th>Price</th>\n",
       "      <td>5977</td>\n",
       "      <td>NaN</td>\n",
       "      <td>NaN</td>\n",
       "      <td>NaN</td>\n",
       "      <td>9.50278</td>\n",
       "      <td>11.204</td>\n",
       "      <td>0.44</td>\n",
       "      <td>3.5</td>\n",
       "      <td>5.65</td>\n",
       "      <td>9.96</td>\n",
       "      <td>160</td>\n",
       "    </tr>\n",
       "  </tbody>\n",
       "</table>\n",
       "</div>"
      ],
      "text/plain": [
       "                  count unique                     top  freq     mean  \\\n",
       "Name               5977   1857  Mahindra XUV500 W8 2WD    49      NaN   \n",
       "Location           5977     11                  Mumbai   785      NaN   \n",
       "Year               5977    NaN                     NaN   NaN  2013.39   \n",
       "Kilometers_Driven  5977    NaN                     NaN   NaN  58670.4   \n",
       "Fuel_Type          5977      5                  Diesel  3195      NaN   \n",
       "Transmission       5977      2                  Manual  4266      NaN   \n",
       "Owner_Type         5977      4                   First  4905      NaN   \n",
       "Mileage            5977    NaN                     NaN   NaN  18.1794   \n",
       "Engine             5977    NaN                     NaN   NaN  1621.38   \n",
       "Power              5977    NaN                     NaN   NaN  112.887   \n",
       "Seats              5977      9                       5  5014      NaN   \n",
       "Price              5977    NaN                     NaN   NaN  9.50278   \n",
       "\n",
       "                       std   min    25%    50%    75%      max  \n",
       "Name                   NaN   NaN    NaN    NaN    NaN      NaN  \n",
       "Location               NaN   NaN    NaN    NaN    NaN      NaN  \n",
       "Year               3.24702  1998   2012   2014   2016     2019  \n",
       "Kilometers_Driven  91543.5   171  33915  53000  73000  6.5e+06  \n",
       "Fuel_Type              NaN   NaN    NaN    NaN    NaN      NaN  \n",
       "Transmission           NaN   NaN    NaN    NaN    NaN      NaN  \n",
       "Owner_Type             NaN   NaN    NaN    NaN    NaN      NaN  \n",
       "Mileage            4.52104     0   15.2  18.16   21.1    33.54  \n",
       "Engine             601.275    72   1198   1493   1984     5998  \n",
       "Power              53.4907  34.2     77   92.7  138.1      560  \n",
       "Seats                  NaN   NaN    NaN    NaN    NaN      NaN  \n",
       "Price               11.204  0.44    3.5   5.65   9.96      160  "
      ]
     },
     "execution_count": 21,
     "metadata": {},
     "output_type": "execute_result"
    }
   ],
   "source": [
    "df.describe(include = 'all').T"
   ]
  },
  {
   "cell_type": "markdown",
   "metadata": {},
   "source": [
    "# 5. Exploratory Data Analysis of columns"
   ]
  },
  {
   "cell_type": "markdown",
   "metadata": {},
   "source": [
    "## Univariate analysis of numeric variables\n",
    "\n",
    "#### Observations: \n",
    "- Most cars are from the year 2014\n",
    "- Kilometers column shows significant skew, a log transformation can be performed to address this.\n",
    "- There is a significant outlier in price that is heavily skewing the data."
   ]
  },
  {
   "cell_type": "code",
   "execution_count": 22,
   "metadata": {},
   "outputs": [
    {
     "data": {
      "image/png": "[encoded data removed]",
      "text/plain": [
       "<Figure size 720x720 with 1 Axes>"
      ]
     },
     "metadata": {
      "needs_background": "light"
     },
     "output_type": "display_data"
    },
    {
     "data": {
      "image/png": "[encoded data removed]",
      "text/plain": [
       "<Figure size 720x720 with 1 Axes>"
      ]
     },
     "metadata": {
      "needs_background": "light"
     },
     "output_type": "display_data"
    },
    {
     "data": {
      "image/png": "[encoded data removed]",
      "text/plain": [
       "<Figure size 720x720 with 1 Axes>"
      ]
     },
     "metadata": {
      "needs_background": "light"
     },
     "output_type": "display_data"
    },
    {
     "data": {
      "image/png": "[encoded data removed]",
      "text/plain": [
       "<Figure size 720x720 with 1 Axes>"
      ]
     },
     "metadata": {
      "needs_background": "light"
     },
     "output_type": "display_data"
    },
    {
     "data": {
      "image/png": "[encoded data removed]",
      "text/plain": [
       "<Figure size 720x720 with 1 Axes>"
      ]
     },
     "metadata": {
      "needs_background": "light"
     },
     "output_type": "display_data"
    },
    {
     "data": {
      "image/png": "[encoded data removed]",
      "text/plain": [
       "<Figure size 720x720 with 1 Axes>"
      ]
     },
     "metadata": {
      "needs_background": "light"
     },
     "output_type": "display_data"
    }
   ],
   "source": [
    "numerical_columns = [\"Year\", \"Kilometers_Driven\", \"Mileage\", \"Engine\", \"Power\", \"Price\"]\n",
    "for i in df[numerical_columns]:\n",
    "    plt.figure(figsize = (10,10))\n",
    "    sns.distplot(df[i])\n",
    "    plt.show()"
   ]
  },
  {
   "cell_type": "code",
   "execution_count": 23,
   "metadata": {},
   "outputs": [
    {
     "data": {
      "image/png": "[encoded data removed]",
      "text/plain": [
       "<Figure size 720x720 with 1 Axes>"
      ]
     },
     "metadata": {
      "needs_background": "light"
     },
     "output_type": "display_data"
    },
    {
     "data": {
      "image/png": "[encoded data removed]",
      "text/plain": [
       "<Figure size 720x720 with 1 Axes>"
      ]
     },
     "metadata": {
      "needs_background": "light"
     },
     "output_type": "display_data"
    },
    {
     "data": {
      "image/png": "[encoded data removed]",
      "text/plain": [
       "<Figure size 720x720 with 1 Axes>"
      ]
     },
     "metadata": {
      "needs_background": "light"
     },
     "output_type": "display_data"
    },
    {
     "data": {
      "image/png": "[encoded data removed]",
      "text/plain": [
       "<Figure size 720x720 with 1 Axes>"
      ]
     },
     "metadata": {
      "needs_background": "light"
     },
     "output_type": "display_data"
    },
    {
     "data": {
      "image/png": "[encoded data removed]",
      "text/plain": [
       "<Figure size 720x720 with 1 Axes>"
      ]
     },
     "metadata": {
      "needs_background": "light"
     },
     "output_type": "display_data"
    },
    {
     "data": {
      "image/png": "[encoded data removed]",
      "text/plain": [
       "<Figure size 720x720 with 1 Axes>"
      ]
     },
     "metadata": {
      "needs_background": "light"
     },
     "output_type": "display_data"
    }
   ],
   "source": [
    "numerical_columns = [\"Year\", \"Kilometers_Driven\", \"Mileage\", \"Engine\", \"Power\", \"Price\"]\n",
    "for i in df[numerical_columns]:\n",
    "    plt.figure(figsize = (10,10))\n",
    "    sns.boxplot(df[i])\n",
    "    plt.show()"
   ]
  },
  {
   "cell_type": "code",
   "execution_count": 24,
   "metadata": {},
   "outputs": [
    {
     "name": "stdout",
     "output_type": "stream",
     "text": [
      "<class 'pandas.core.frame.DataFrame'>\n",
      "Int64Index: 5977 entries, 0 to 6018\n",
      "Data columns (total 12 columns):\n",
      " #   Column             Non-Null Count  Dtype   \n",
      "---  ------             --------------  -----   \n",
      " 0   Name               5977 non-null   object  \n",
      " 1   Location           5977 non-null   category\n",
      " 2   Year               5977 non-null   int64   \n",
      " 3   Kilometers_Driven  5977 non-null   int64   \n",
      " 4   Fuel_Type          5977 non-null   category\n",
      " 5   Transmission       5977 non-null   category\n",
      " 6   Owner_Type         5977 non-null   category\n",
      " 7   Mileage            5977 non-null   float64 \n",
      " 8   Engine             5977 non-null   float64 \n",
      " 9   Power              5977 non-null   float64 \n",
      " 10  Seats              5977 non-null   category\n",
      " 11  Price              5977 non-null   float64 \n",
      "dtypes: category(5), float64(4), int64(2), object(1)\n",
      "memory usage: 404.0+ KB\n"
     ]
    }
   ],
   "source": [
    "df.info()"
   ]
  },
  {
   "cell_type": "markdown",
   "metadata": {},
   "source": [
    "## Univariate analysis of categorical variables\n",
    "#### Observations: \n",
    "- Mumbai has the highest number of used cars \n",
    "- The most common owner is the first owner \n",
    "- Diesel is the largest type of fuel but Petrol isn't too far off. \n",
    "- Manual cars are more than twice as available as automatic cars. \n",
    "- The most common number of seats is 5. "
   ]
  },
  {
   "cell_type": "code",
   "execution_count": 25,
   "metadata": {},
   "outputs": [
    {
     "data": {
      "image/png": "[encoded data removed]",
      "text/plain": [
       "<Figure size 720x720 with 1 Axes>"
      ]
     },
     "metadata": {
      "needs_background": "light"
     },
     "output_type": "display_data"
    },
    {
     "data": {
      "image/png": "[encoded data removed]",
      "text/plain": [
       "<Figure size 720x720 with 1 Axes>"
      ]
     },
     "metadata": {
      "needs_background": "light"
     },
     "output_type": "display_data"
    },
    {
     "data": {
      "image/png": "[encoded data removed]",
      "text/plain": [
       "<Figure size 720x720 with 1 Axes>"
      ]
     },
     "metadata": {
      "needs_background": "light"
     },
     "output_type": "display_data"
    },
    {
     "data": {
      "image/png": "[encoded data removed]",
      "text/plain": [
       "<Figure size 720x720 with 1 Axes>"
      ]
     },
     "metadata": {
      "needs_background": "light"
     },
     "output_type": "display_data"
    },
    {
     "data": {
      "image/png": "[encoded data removed]",
      "text/plain": [
       "<Figure size 720x720 with 1 Axes>"
      ]
     },
     "metadata": {
      "needs_background": "light"
     },
     "output_type": "display_data"
    },
    {
     "data": {
      "image/png": "[encoded data removed]",
      "text/plain": [
       "<Figure size 720x720 with 1 Axes>"
      ]
     },
     "metadata": {
      "needs_background": "light"
     },
     "output_type": "display_data"
    }
   ],
   "source": [
    "categorical_columns = [\"Location\", \"Owner_Type\", \"Fuel_Type\", \"Transmission\", \"Owner_Type\", \"Seats\"]\n",
    "for i in df[categorical_columns]:\n",
    "    plt.figure(figsize = (10,10))\n",
    "    sns.countplot(df[i])\n",
    "    plt.show()"
   ]
  },
  {
   "cell_type": "markdown",
   "metadata": {},
   "source": [
    "## Bivariate analysis\n",
    "#### Observations: \n",
    "- There is a noticeably high correlation between Price and Engine\n",
    "- There is also a high correlation between Price and Power. \n",
    "- The implication here is that a car with a bigger engine fetches a higher price. The same linear correlation applies to power. "
   ]
  },
  {
   "cell_type": "code",
   "execution_count": 26,
   "metadata": {},
   "outputs": [
    {
     "data": {
      "image/png": "[encoded data removed]",
      "text/plain": [
       "<Figure size 864x576 with 2 Axes>"
      ]
     },
     "metadata": {
      "needs_background": "light"
     },
     "output_type": "display_data"
    }
   ],
   "source": [
    "plt.figure(figsize=(12,8))\n",
    "sns.heatmap(df.corr(), annot=True)\n",
    "plt.show()"
   ]
  },
  {
   "cell_type": "markdown",
   "metadata": {},
   "source": [
    "# 6. Log Transformation \n",
    "- The Kilometers_Driven Engine, and Power column differ greatly in scale compared to the rest of the data and will have a log transformation performed on them. "
   ]
  },
  {
   "cell_type": "code",
   "execution_count": 27,
   "metadata": {
    "scrolled": true
   },
   "outputs": [
    {
     "data": {
      "text/html": [
       "<div>\n",
       "<style scoped>\n",
       "    .dataframe tbody tr th:only-of-type {\n",
       "        vertical-align: middle;\n",
       "    }\n",
       "\n",
       "    .dataframe tbody tr th {\n",
       "        vertical-align: top;\n",
       "    }\n",
       "\n",
       "    .dataframe thead th {\n",
       "        text-align: right;\n",
       "    }\n",
       "</style>\n",
       "<table border=\"1\" class=\"dataframe\">\n",
       "  <thead>\n",
       "    <tr style=\"text-align: right;\">\n",
       "      <th></th>\n",
       "      <th>count</th>\n",
       "      <th>unique</th>\n",
       "      <th>top</th>\n",
       "      <th>freq</th>\n",
       "      <th>mean</th>\n",
       "      <th>std</th>\n",
       "      <th>min</th>\n",
       "      <th>25%</th>\n",
       "      <th>50%</th>\n",
       "      <th>75%</th>\n",
       "      <th>max</th>\n",
       "    </tr>\n",
       "  </thead>\n",
       "  <tbody>\n",
       "    <tr>\n",
       "      <th>Name</th>\n",
       "      <td>5977</td>\n",
       "      <td>1857</td>\n",
       "      <td>Mahindra XUV500 W8 2WD</td>\n",
       "      <td>49</td>\n",
       "      <td>NaN</td>\n",
       "      <td>NaN</td>\n",
       "      <td>NaN</td>\n",
       "      <td>NaN</td>\n",
       "      <td>NaN</td>\n",
       "      <td>NaN</td>\n",
       "      <td>NaN</td>\n",
       "    </tr>\n",
       "    <tr>\n",
       "      <th>Location</th>\n",
       "      <td>5977</td>\n",
       "      <td>11</td>\n",
       "      <td>Mumbai</td>\n",
       "      <td>785</td>\n",
       "      <td>NaN</td>\n",
       "      <td>NaN</td>\n",
       "      <td>NaN</td>\n",
       "      <td>NaN</td>\n",
       "      <td>NaN</td>\n",
       "      <td>NaN</td>\n",
       "      <td>NaN</td>\n",
       "    </tr>\n",
       "    <tr>\n",
       "      <th>Year</th>\n",
       "      <td>5977</td>\n",
       "      <td>NaN</td>\n",
       "      <td>NaN</td>\n",
       "      <td>NaN</td>\n",
       "      <td>2013.39</td>\n",
       "      <td>3.24702</td>\n",
       "      <td>1998</td>\n",
       "      <td>2012</td>\n",
       "      <td>2014</td>\n",
       "      <td>2016</td>\n",
       "      <td>2019</td>\n",
       "    </tr>\n",
       "    <tr>\n",
       "      <th>Kilometers_Driven</th>\n",
       "      <td>5977</td>\n",
       "      <td>NaN</td>\n",
       "      <td>NaN</td>\n",
       "      <td>NaN</td>\n",
       "      <td>58670.4</td>\n",
       "      <td>91543.5</td>\n",
       "      <td>171</td>\n",
       "      <td>33915</td>\n",
       "      <td>53000</td>\n",
       "      <td>73000</td>\n",
       "      <td>6.5e+06</td>\n",
       "    </tr>\n",
       "    <tr>\n",
       "      <th>Fuel_Type</th>\n",
       "      <td>5977</td>\n",
       "      <td>5</td>\n",
       "      <td>Diesel</td>\n",
       "      <td>3195</td>\n",
       "      <td>NaN</td>\n",
       "      <td>NaN</td>\n",
       "      <td>NaN</td>\n",
       "      <td>NaN</td>\n",
       "      <td>NaN</td>\n",
       "      <td>NaN</td>\n",
       "      <td>NaN</td>\n",
       "    </tr>\n",
       "    <tr>\n",
       "      <th>Transmission</th>\n",
       "      <td>5977</td>\n",
       "      <td>2</td>\n",
       "      <td>Manual</td>\n",
       "      <td>4266</td>\n",
       "      <td>NaN</td>\n",
       "      <td>NaN</td>\n",
       "      <td>NaN</td>\n",
       "      <td>NaN</td>\n",
       "      <td>NaN</td>\n",
       "      <td>NaN</td>\n",
       "      <td>NaN</td>\n",
       "    </tr>\n",
       "    <tr>\n",
       "      <th>Owner_Type</th>\n",
       "      <td>5977</td>\n",
       "      <td>4</td>\n",
       "      <td>First</td>\n",
       "      <td>4905</td>\n",
       "      <td>NaN</td>\n",
       "      <td>NaN</td>\n",
       "      <td>NaN</td>\n",
       "      <td>NaN</td>\n",
       "      <td>NaN</td>\n",
       "      <td>NaN</td>\n",
       "      <td>NaN</td>\n",
       "    </tr>\n",
       "    <tr>\n",
       "      <th>Mileage</th>\n",
       "      <td>5977</td>\n",
       "      <td>NaN</td>\n",
       "      <td>NaN</td>\n",
       "      <td>NaN</td>\n",
       "      <td>18.1794</td>\n",
       "      <td>4.52104</td>\n",
       "      <td>0</td>\n",
       "      <td>15.2</td>\n",
       "      <td>18.16</td>\n",
       "      <td>21.1</td>\n",
       "      <td>33.54</td>\n",
       "    </tr>\n",
       "    <tr>\n",
       "      <th>Engine</th>\n",
       "      <td>5977</td>\n",
       "      <td>NaN</td>\n",
       "      <td>NaN</td>\n",
       "      <td>NaN</td>\n",
       "      <td>1621.38</td>\n",
       "      <td>601.275</td>\n",
       "      <td>72</td>\n",
       "      <td>1198</td>\n",
       "      <td>1493</td>\n",
       "      <td>1984</td>\n",
       "      <td>5998</td>\n",
       "    </tr>\n",
       "    <tr>\n",
       "      <th>Power</th>\n",
       "      <td>5977</td>\n",
       "      <td>NaN</td>\n",
       "      <td>NaN</td>\n",
       "      <td>NaN</td>\n",
       "      <td>112.887</td>\n",
       "      <td>53.4907</td>\n",
       "      <td>34.2</td>\n",
       "      <td>77</td>\n",
       "      <td>92.7</td>\n",
       "      <td>138.1</td>\n",
       "      <td>560</td>\n",
       "    </tr>\n",
       "    <tr>\n",
       "      <th>Seats</th>\n",
       "      <td>5977</td>\n",
       "      <td>9</td>\n",
       "      <td>5</td>\n",
       "      <td>5014</td>\n",
       "      <td>NaN</td>\n",
       "      <td>NaN</td>\n",
       "      <td>NaN</td>\n",
       "      <td>NaN</td>\n",
       "      <td>NaN</td>\n",
       "      <td>NaN</td>\n",
       "      <td>NaN</td>\n",
       "    </tr>\n",
       "    <tr>\n",
       "      <th>Price</th>\n",
       "      <td>5977</td>\n",
       "      <td>NaN</td>\n",
       "      <td>NaN</td>\n",
       "      <td>NaN</td>\n",
       "      <td>9.50278</td>\n",
       "      <td>11.204</td>\n",
       "      <td>0.44</td>\n",
       "      <td>3.5</td>\n",
       "      <td>5.65</td>\n",
       "      <td>9.96</td>\n",
       "      <td>160</td>\n",
       "    </tr>\n",
       "  </tbody>\n",
       "</table>\n",
       "</div>"
      ],
      "text/plain": [
       "                  count unique                     top  freq     mean  \\\n",
       "Name               5977   1857  Mahindra XUV500 W8 2WD    49      NaN   \n",
       "Location           5977     11                  Mumbai   785      NaN   \n",
       "Year               5977    NaN                     NaN   NaN  2013.39   \n",
       "Kilometers_Driven  5977    NaN                     NaN   NaN  58670.4   \n",
       "Fuel_Type          5977      5                  Diesel  3195      NaN   \n",
       "Transmission       5977      2                  Manual  4266      NaN   \n",
       "Owner_Type         5977      4                   First  4905      NaN   \n",
       "Mileage            5977    NaN                     NaN   NaN  18.1794   \n",
       "Engine             5977    NaN                     NaN   NaN  1621.38   \n",
       "Power              5977    NaN                     NaN   NaN  112.887   \n",
       "Seats              5977      9                       5  5014      NaN   \n",
       "Price              5977    NaN                     NaN   NaN  9.50278   \n",
       "\n",
       "                       std   min    25%    50%    75%      max  \n",
       "Name                   NaN   NaN    NaN    NaN    NaN      NaN  \n",
       "Location               NaN   NaN    NaN    NaN    NaN      NaN  \n",
       "Year               3.24702  1998   2012   2014   2016     2019  \n",
       "Kilometers_Driven  91543.5   171  33915  53000  73000  6.5e+06  \n",
       "Fuel_Type              NaN   NaN    NaN    NaN    NaN      NaN  \n",
       "Transmission           NaN   NaN    NaN    NaN    NaN      NaN  \n",
       "Owner_Type             NaN   NaN    NaN    NaN    NaN      NaN  \n",
       "Mileage            4.52104     0   15.2  18.16   21.1    33.54  \n",
       "Engine             601.275    72   1198   1493   1984     5998  \n",
       "Power              53.4907  34.2     77   92.7  138.1      560  \n",
       "Seats                  NaN   NaN    NaN    NaN    NaN      NaN  \n",
       "Price               11.204  0.44    3.5   5.65   9.96      160  "
      ]
     },
     "execution_count": 27,
     "metadata": {},
     "output_type": "execute_result"
    }
   ],
   "source": [
    "df.describe(include = 'all').T"
   ]
  },
  {
   "cell_type": "code",
   "execution_count": 28,
   "metadata": {},
   "outputs": [],
   "source": [
    "log_columns = [\"Kilometers_Driven\", \"Engine\", \"Power\"]\n",
    "for i in df[log_columns]:\n",
    "    df[i] = np.log(df[i])"
   ]
  },
  {
   "cell_type": "code",
   "execution_count": 29,
   "metadata": {
    "scrolled": true
   },
   "outputs": [
    {
     "data": {
      "text/html": [
       "<div>\n",
       "<style scoped>\n",
       "    .dataframe tbody tr th:only-of-type {\n",
       "        vertical-align: middle;\n",
       "    }\n",
       "\n",
       "    .dataframe tbody tr th {\n",
       "        vertical-align: top;\n",
       "    }\n",
       "\n",
       "    .dataframe thead th {\n",
       "        text-align: right;\n",
       "    }\n",
       "</style>\n",
       "<table border=\"1\" class=\"dataframe\">\n",
       "  <thead>\n",
       "    <tr style=\"text-align: right;\">\n",
       "      <th></th>\n",
       "      <th>count</th>\n",
       "      <th>unique</th>\n",
       "      <th>top</th>\n",
       "      <th>freq</th>\n",
       "      <th>mean</th>\n",
       "      <th>std</th>\n",
       "      <th>min</th>\n",
       "      <th>25%</th>\n",
       "      <th>50%</th>\n",
       "      <th>75%</th>\n",
       "      <th>max</th>\n",
       "    </tr>\n",
       "  </thead>\n",
       "  <tbody>\n",
       "    <tr>\n",
       "      <th>Name</th>\n",
       "      <td>5977</td>\n",
       "      <td>1857</td>\n",
       "      <td>Mahindra XUV500 W8 2WD</td>\n",
       "      <td>49</td>\n",
       "      <td>NaN</td>\n",
       "      <td>NaN</td>\n",
       "      <td>NaN</td>\n",
       "      <td>NaN</td>\n",
       "      <td>NaN</td>\n",
       "      <td>NaN</td>\n",
       "      <td>NaN</td>\n",
       "    </tr>\n",
       "    <tr>\n",
       "      <th>Location</th>\n",
       "      <td>5977</td>\n",
       "      <td>11</td>\n",
       "      <td>Mumbai</td>\n",
       "      <td>785</td>\n",
       "      <td>NaN</td>\n",
       "      <td>NaN</td>\n",
       "      <td>NaN</td>\n",
       "      <td>NaN</td>\n",
       "      <td>NaN</td>\n",
       "      <td>NaN</td>\n",
       "      <td>NaN</td>\n",
       "    </tr>\n",
       "    <tr>\n",
       "      <th>Year</th>\n",
       "      <td>5977</td>\n",
       "      <td>NaN</td>\n",
       "      <td>NaN</td>\n",
       "      <td>NaN</td>\n",
       "      <td>2013.39</td>\n",
       "      <td>3.24702</td>\n",
       "      <td>1998</td>\n",
       "      <td>2012</td>\n",
       "      <td>2014</td>\n",
       "      <td>2016</td>\n",
       "      <td>2019</td>\n",
       "    </tr>\n",
       "    <tr>\n",
       "      <th>Kilometers_Driven</th>\n",
       "      <td>5977</td>\n",
       "      <td>NaN</td>\n",
       "      <td>NaN</td>\n",
       "      <td>NaN</td>\n",
       "      <td>10.7569</td>\n",
       "      <td>0.716852</td>\n",
       "      <td>5.14166</td>\n",
       "      <td>10.4316</td>\n",
       "      <td>10.878</td>\n",
       "      <td>11.1982</td>\n",
       "      <td>15.6873</td>\n",
       "    </tr>\n",
       "    <tr>\n",
       "      <th>Fuel_Type</th>\n",
       "      <td>5977</td>\n",
       "      <td>5</td>\n",
       "      <td>Diesel</td>\n",
       "      <td>3195</td>\n",
       "      <td>NaN</td>\n",
       "      <td>NaN</td>\n",
       "      <td>NaN</td>\n",
       "      <td>NaN</td>\n",
       "      <td>NaN</td>\n",
       "      <td>NaN</td>\n",
       "      <td>NaN</td>\n",
       "    </tr>\n",
       "    <tr>\n",
       "      <th>Transmission</th>\n",
       "      <td>5977</td>\n",
       "      <td>2</td>\n",
       "      <td>Manual</td>\n",
       "      <td>4266</td>\n",
       "      <td>NaN</td>\n",
       "      <td>NaN</td>\n",
       "      <td>NaN</td>\n",
       "      <td>NaN</td>\n",
       "      <td>NaN</td>\n",
       "      <td>NaN</td>\n",
       "      <td>NaN</td>\n",
       "    </tr>\n",
       "    <tr>\n",
       "      <th>Owner_Type</th>\n",
       "      <td>5977</td>\n",
       "      <td>4</td>\n",
       "      <td>First</td>\n",
       "      <td>4905</td>\n",
       "      <td>NaN</td>\n",
       "      <td>NaN</td>\n",
       "      <td>NaN</td>\n",
       "      <td>NaN</td>\n",
       "      <td>NaN</td>\n",
       "      <td>NaN</td>\n",
       "      <td>NaN</td>\n",
       "    </tr>\n",
       "    <tr>\n",
       "      <th>Mileage</th>\n",
       "      <td>5977</td>\n",
       "      <td>NaN</td>\n",
       "      <td>NaN</td>\n",
       "      <td>NaN</td>\n",
       "      <td>18.1794</td>\n",
       "      <td>4.52104</td>\n",
       "      <td>0</td>\n",
       "      <td>15.2</td>\n",
       "      <td>18.16</td>\n",
       "      <td>21.1</td>\n",
       "      <td>33.54</td>\n",
       "    </tr>\n",
       "    <tr>\n",
       "      <th>Engine</th>\n",
       "      <td>5977</td>\n",
       "      <td>NaN</td>\n",
       "      <td>NaN</td>\n",
       "      <td>NaN</td>\n",
       "      <td>7.33094</td>\n",
       "      <td>0.340256</td>\n",
       "      <td>4.27667</td>\n",
       "      <td>7.08841</td>\n",
       "      <td>7.30854</td>\n",
       "      <td>7.59287</td>\n",
       "      <td>8.69918</td>\n",
       "    </tr>\n",
       "    <tr>\n",
       "      <th>Power</th>\n",
       "      <td>5977</td>\n",
       "      <td>NaN</td>\n",
       "      <td>NaN</td>\n",
       "      <td>NaN</td>\n",
       "      <td>4.6355</td>\n",
       "      <td>0.41321</td>\n",
       "      <td>3.53223</td>\n",
       "      <td>4.34381</td>\n",
       "      <td>4.52937</td>\n",
       "      <td>4.92798</td>\n",
       "      <td>6.32794</td>\n",
       "    </tr>\n",
       "    <tr>\n",
       "      <th>Seats</th>\n",
       "      <td>5977</td>\n",
       "      <td>9</td>\n",
       "      <td>5</td>\n",
       "      <td>5014</td>\n",
       "      <td>NaN</td>\n",
       "      <td>NaN</td>\n",
       "      <td>NaN</td>\n",
       "      <td>NaN</td>\n",
       "      <td>NaN</td>\n",
       "      <td>NaN</td>\n",
       "      <td>NaN</td>\n",
       "    </tr>\n",
       "    <tr>\n",
       "      <th>Price</th>\n",
       "      <td>5977</td>\n",
       "      <td>NaN</td>\n",
       "      <td>NaN</td>\n",
       "      <td>NaN</td>\n",
       "      <td>9.50278</td>\n",
       "      <td>11.204</td>\n",
       "      <td>0.44</td>\n",
       "      <td>3.5</td>\n",
       "      <td>5.65</td>\n",
       "      <td>9.96</td>\n",
       "      <td>160</td>\n",
       "    </tr>\n",
       "  </tbody>\n",
       "</table>\n",
       "</div>"
      ],
      "text/plain": [
       "                  count unique                     top  freq     mean  \\\n",
       "Name               5977   1857  Mahindra XUV500 W8 2WD    49      NaN   \n",
       "Location           5977     11                  Mumbai   785      NaN   \n",
       "Year               5977    NaN                     NaN   NaN  2013.39   \n",
       "Kilometers_Driven  5977    NaN                     NaN   NaN  10.7569   \n",
       "Fuel_Type          5977      5                  Diesel  3195      NaN   \n",
       "Transmission       5977      2                  Manual  4266      NaN   \n",
       "Owner_Type         5977      4                   First  4905      NaN   \n",
       "Mileage            5977    NaN                     NaN   NaN  18.1794   \n",
       "Engine             5977    NaN                     NaN   NaN  7.33094   \n",
       "Power              5977    NaN                     NaN   NaN   4.6355   \n",
       "Seats              5977      9                       5  5014      NaN   \n",
       "Price              5977    NaN                     NaN   NaN  9.50278   \n",
       "\n",
       "                        std      min      25%      50%      75%      max  \n",
       "Name                    NaN      NaN      NaN      NaN      NaN      NaN  \n",
       "Location                NaN      NaN      NaN      NaN      NaN      NaN  \n",
       "Year                3.24702     1998     2012     2014     2016     2019  \n",
       "Kilometers_Driven  0.716852  5.14166  10.4316   10.878  11.1982  15.6873  \n",
       "Fuel_Type               NaN      NaN      NaN      NaN      NaN      NaN  \n",
       "Transmission            NaN      NaN      NaN      NaN      NaN      NaN  \n",
       "Owner_Type              NaN      NaN      NaN      NaN      NaN      NaN  \n",
       "Mileage             4.52104        0     15.2    18.16     21.1    33.54  \n",
       "Engine             0.340256  4.27667  7.08841  7.30854  7.59287  8.69918  \n",
       "Power               0.41321  3.53223  4.34381  4.52937  4.92798  6.32794  \n",
       "Seats                   NaN      NaN      NaN      NaN      NaN      NaN  \n",
       "Price                11.204     0.44      3.5     5.65     9.96      160  "
      ]
     },
     "execution_count": 29,
     "metadata": {},
     "output_type": "execute_result"
    }
   ],
   "source": [
    "df.describe(include = 'all').T"
   ]
  },
  {
   "cell_type": "markdown",
   "metadata": {},
   "source": [
    "-When compared to the charts above, we can see that the data is much more normalized and shows significantly less skew. "
   ]
  },
  {
   "cell_type": "code",
   "execution_count": 30,
   "metadata": {
    "scrolled": true
   },
   "outputs": [
    {
     "data": {
      "image/png": "[encoded data removed]",
      "text/plain": [
       "<Figure size 720x720 with 1 Axes>"
      ]
     },
     "metadata": {
      "needs_background": "light"
     },
     "output_type": "display_data"
    },
    {
     "data": {
      "image/png": "[encoded data removed]",
      "text/plain": [
       "<Figure size 720x720 with 1 Axes>"
      ]
     },
     "metadata": {
      "needs_background": "light"
     },
     "output_type": "display_data"
    },
    {
     "data": {
      "image/png": "[encoded data removed]",
      "text/plain": [
       "<Figure size 720x720 with 1 Axes>"
      ]
     },
     "metadata": {
      "needs_background": "light"
     },
     "output_type": "display_data"
    }
   ],
   "source": [
    "numerical_columns = [\"Kilometers_Driven\", \"Engine\", \"Power\"]\n",
    "for i in df[numerical_columns]:\n",
    "    plt.figure(figsize = (10,10))\n",
    "    sns.distplot(df[i])\n",
    "    plt.show()"
   ]
  },
  {
   "cell_type": "markdown",
   "metadata": {},
   "source": [
    "# 7. Outlier Treatment\n",
    "- The Price column shows a significant outlier at 160 lakhs. I believe this data point can be removed while the other outliers can be preserved and optimized during model building. \n"
   ]
  },
  {
   "cell_type": "code",
   "execution_count": 31,
   "metadata": {
    "scrolled": true
   },
   "outputs": [
    {
     "data": {
      "image/png": "[encoded data removed]",
      "text/plain": [
       "<Figure size 720x720 with 1 Axes>"
      ]
     },
     "metadata": {
      "needs_background": "light"
     },
     "output_type": "display_data"
    },
    {
     "data": {
      "image/png": "[encoded data removed]",
      "text/plain": [
       "<Figure size 720x720 with 1 Axes>"
      ]
     },
     "metadata": {
      "needs_background": "light"
     },
     "output_type": "display_data"
    },
    {
     "data": {
      "image/png": "[encoded data removed]",
      "text/plain": [
       "<Figure size 720x720 with 1 Axes>"
      ]
     },
     "metadata": {
      "needs_background": "light"
     },
     "output_type": "display_data"
    },
    {
     "data": {
      "image/png": "[encoded data removed]",
      "text/plain": [
       "<Figure size 720x720 with 1 Axes>"
      ]
     },
     "metadata": {
      "needs_background": "light"
     },
     "output_type": "display_data"
    },
    {
     "data": {
      "image/png": "[encoded data removed]",
      "text/plain": [
       "<Figure size 720x720 with 1 Axes>"
      ]
     },
     "metadata": {
      "needs_background": "light"
     },
     "output_type": "display_data"
    }
   ],
   "source": [
    "numerical_columns = [\"Kilometers_Driven\", \"Mileage\", \"Engine\", \"Power\", \"Price\"]\n",
    "for i in df[numerical_columns]:\n",
    "    plt.figure(figsize = (10,10))\n",
    "    sns.boxplot(df[i])\n",
    "    plt.show()"
   ]
  },
  {
   "cell_type": "code",
   "execution_count": 32,
   "metadata": {},
   "outputs": [],
   "source": [
    "df[\"Kilometers_Driven\"] = df[\"Kilometers_Driven\"].clip(lower=df[\"Kilometers_Driven\"].quantile(0.25), upper=df[\"Kilometers_Driven\"].quantile(0.75))\n",
    "df[\"Mileage\"] = df[\"Mileage\"].clip(lower=df[\"Mileage\"].quantile(0.25), upper=df[\"Mileage\"].quantile(0.75))\n",
    "df[\"Engine\"] = df[\"Engine\"].clip(lower=df[\"Engine\"].quantile(0.25), upper=df[\"Engine\"].quantile(0.75))\n",
    "df[\"Power\"] = df[\"Power\"].clip(lower=df[\"Power\"].quantile(0.25), upper=df[\"Power\"].quantile(0.75))\n",
    "df[\"Price\"] = df[\"Price\"].clip(lower=df[\"Price\"].quantile(0.25), upper=df[\"Price\"].quantile(0.75))"
   ]
  },
  {
   "cell_type": "code",
   "execution_count": 33,
   "metadata": {
    "scrolled": true
   },
   "outputs": [
    {
     "data": {
      "image/png": "[encoded data removed]",
      "text/plain": [
       "<Figure size 720x720 with 1 Axes>"
      ]
     },
     "metadata": {
      "needs_background": "light"
     },
     "output_type": "display_data"
    },
    {
     "data": {
      "image/png": "[encoded data removed]",
      "text/plain": [
       "<Figure size 720x720 with 1 Axes>"
      ]
     },
     "metadata": {
      "needs_background": "light"
     },
     "output_type": "display_data"
    },
    {
     "data": {
      "image/png": "[encoded data removed]",
      "text/plain": [
       "<Figure size 720x720 with 1 Axes>"
      ]
     },
     "metadata": {
      "needs_background": "light"
     },
     "output_type": "display_data"
    },
    {
     "data": {
      "image/png": "[encoded data removed]",
      "text/plain": [
       "<Figure size 720x720 with 1 Axes>"
      ]
     },
     "metadata": {
      "needs_background": "light"
     },
     "output_type": "display_data"
    },
    {
     "data": {
      "image/png": "[encoded data removed]",
      "text/plain": [
       "<Figure size 720x720 with 1 Axes>"
      ]
     },
     "metadata": {
      "needs_background": "light"
     },
     "output_type": "display_data"
    }
   ],
   "source": [
    "numerical_columns = [\"Kilometers_Driven\", \"Mileage\", \"Engine\", \"Power\", \"Price\"]\n",
    "for i in df[numerical_columns]:\n",
    "    plt.figure(figsize = (10,10))\n",
    "    sns.boxplot(df[i])\n",
    "    plt.show()"
   ]
  },
  {
   "cell_type": "markdown",
   "metadata": {},
   "source": [
    "# 8. Model Building "
   ]
  },
  {
   "cell_type": "code",
   "execution_count": 34,
   "metadata": {},
   "outputs": [],
   "source": [
    "# Splitting the data into X and Y for model building\n",
    "X = df.drop(columns = {'Name', 'Price'})\n",
    "Y = df['Price']"
   ]
  },
  {
   "cell_type": "code",
   "execution_count": 35,
   "metadata": {},
   "outputs": [],
   "source": [
    "# One Hot encoding dummy values for processing as only categorical values can be processed.\n",
    "X = pd.get_dummies(X, columns=['Location', 'Fuel_Type','Transmission','Owner_Type','Seats'], drop_first=True)"
   ]
  },
  {
   "cell_type": "code",
   "execution_count": 36,
   "metadata": {},
   "outputs": [],
   "source": [
    "X_train, X_test, Y_train, Y_test = train_test_split(X, Y, test_size=0.30 , random_state=1)"
   ]
  },
  {
   "cell_type": "code",
   "execution_count": 37,
   "metadata": {
    "scrolled": false
   },
   "outputs": [
    {
     "data": {
      "text/plain": [
       "LinearRegression()"
      ]
     },
     "execution_count": 37,
     "metadata": {},
     "output_type": "execute_result"
    }
   ],
   "source": [
    "# Fitting linear regression line\n",
    "regression_model = LinearRegression(fit_intercept=True)\n",
    "regression_model.fit(X_train, Y_train)"
   ]
  },
  {
   "cell_type": "markdown",
   "metadata": {},
   "source": [
    "## R-squared score for training set\n",
    "- The in-sample R^2 was 66% while the out-of-sample r^2 was 71% prior to dropping the outliers above. \n",
    "- After dropping the outliers and consolidating the data to the IQR rane, the in-sample R^2 increased to 76% while the out-of-sample r^2 increased to 77%. "
   ]
  },
  {
   "cell_type": "code",
   "execution_count": 38,
   "metadata": {
    "scrolled": true
   },
   "outputs": [
    {
     "data": {
      "text/plain": [
       "0.7601994340332157"
      ]
     },
     "execution_count": 38,
     "metadata": {},
     "output_type": "execute_result"
    }
   ],
   "source": [
    "regression_model.score(X_train, Y_train)"
   ]
  },
  {
   "cell_type": "code",
   "execution_count": 39,
   "metadata": {
    "scrolled": true
   },
   "outputs": [
    {
     "data": {
      "text/plain": [
       "0.7705416017293436"
      ]
     },
     "execution_count": 39,
     "metadata": {},
     "output_type": "execute_result"
    }
   ],
   "source": [
    "regression_model.score(X_test, Y_test)"
   ]
  },
  {
   "cell_type": "markdown",
   "metadata": {},
   "source": [
    "## Coefficients for training set"
   ]
  },
  {
   "cell_type": "code",
   "execution_count": 40,
   "metadata": {},
   "outputs": [],
   "source": [
    "coefficient = pd.DataFrame(list(X_train.columns)).copy()\n",
    "coefficient.insert(len(coefficient.columns),\"Coefs\",regression_model.coef_.transpose())"
   ]
  },
  {
   "cell_type": "markdown",
   "metadata": {},
   "source": [
    "- Negative coefficient shows a weaker correlation while positive coefficient shows a stronger correlation. "
   ]
  },
  {
   "cell_type": "code",
   "execution_count": 42,
   "metadata": {
    "scrolled": true
   },
   "outputs": [
    {
     "data": {
      "text/html": [
       "<div>\n",
       "<style scoped>\n",
       "    .dataframe tbody tr th:only-of-type {\n",
       "        vertical-align: middle;\n",
       "    }\n",
       "\n",
       "    .dataframe tbody tr th {\n",
       "        vertical-align: top;\n",
       "    }\n",
       "\n",
       "    .dataframe thead th {\n",
       "        text-align: right;\n",
       "    }\n",
       "</style>\n",
       "<table border=\"1\" class=\"dataframe\">\n",
       "  <thead>\n",
       "    <tr style=\"text-align: right;\">\n",
       "      <th></th>\n",
       "      <th>0</th>\n",
       "      <th>Coefs</th>\n",
       "    </tr>\n",
       "  </thead>\n",
       "  <tbody>\n",
       "    <tr>\n",
       "      <th>0</th>\n",
       "      <td>Year</td>\n",
       "      <td>2.468641e-01</td>\n",
       "    </tr>\n",
       "    <tr>\n",
       "      <th>1</th>\n",
       "      <td>Kilometers_Driven</td>\n",
       "      <td>-9.156508e-01</td>\n",
       "    </tr>\n",
       "    <tr>\n",
       "      <th>2</th>\n",
       "      <td>Mileage</td>\n",
       "      <td>-1.179627e-01</td>\n",
       "    </tr>\n",
       "    <tr>\n",
       "      <th>3</th>\n",
       "      <td>Engine</td>\n",
       "      <td>1.178471e+00</td>\n",
       "    </tr>\n",
       "    <tr>\n",
       "      <th>4</th>\n",
       "      <td>Power</td>\n",
       "      <td>4.453148e+00</td>\n",
       "    </tr>\n",
       "    <tr>\n",
       "      <th>5</th>\n",
       "      <td>Location_Bangalore</td>\n",
       "      <td>7.562835e-02</td>\n",
       "    </tr>\n",
       "    <tr>\n",
       "      <th>6</th>\n",
       "      <td>Location_Chennai</td>\n",
       "      <td>-2.124618e-01</td>\n",
       "    </tr>\n",
       "    <tr>\n",
       "      <th>7</th>\n",
       "      <td>Location_Coimbatore</td>\n",
       "      <td>3.011324e-01</td>\n",
       "    </tr>\n",
       "    <tr>\n",
       "      <th>8</th>\n",
       "      <td>Location_Delhi</td>\n",
       "      <td>-3.749721e-01</td>\n",
       "    </tr>\n",
       "    <tr>\n",
       "      <th>9</th>\n",
       "      <td>Location_Hyderabad</td>\n",
       "      <td>1.478399e-01</td>\n",
       "    </tr>\n",
       "    <tr>\n",
       "      <th>10</th>\n",
       "      <td>Location_Jaipur</td>\n",
       "      <td>-2.462397e-01</td>\n",
       "    </tr>\n",
       "    <tr>\n",
       "      <th>11</th>\n",
       "      <td>Location_Kochi</td>\n",
       "      <td>-1.242860e-01</td>\n",
       "    </tr>\n",
       "    <tr>\n",
       "      <th>12</th>\n",
       "      <td>Location_Kolkata</td>\n",
       "      <td>-1.032497e+00</td>\n",
       "    </tr>\n",
       "    <tr>\n",
       "      <th>13</th>\n",
       "      <td>Location_Mumbai</td>\n",
       "      <td>-3.303432e-01</td>\n",
       "    </tr>\n",
       "    <tr>\n",
       "      <th>14</th>\n",
       "      <td>Location_Pune</td>\n",
       "      <td>-2.083168e-01</td>\n",
       "    </tr>\n",
       "    <tr>\n",
       "      <th>15</th>\n",
       "      <td>Fuel_Type_Diesel</td>\n",
       "      <td>1.323142e+00</td>\n",
       "    </tr>\n",
       "    <tr>\n",
       "      <th>16</th>\n",
       "      <td>Fuel_Type_Electric</td>\n",
       "      <td>1.110223e-15</td>\n",
       "    </tr>\n",
       "    <tr>\n",
       "      <th>17</th>\n",
       "      <td>Fuel_Type_LPG</td>\n",
       "      <td>3.209182e-01</td>\n",
       "    </tr>\n",
       "    <tr>\n",
       "      <th>18</th>\n",
       "      <td>Fuel_Type_Petrol</td>\n",
       "      <td>2.174829e-01</td>\n",
       "    </tr>\n",
       "    <tr>\n",
       "      <th>19</th>\n",
       "      <td>Transmission_Manual</td>\n",
       "      <td>-8.516413e-01</td>\n",
       "    </tr>\n",
       "    <tr>\n",
       "      <th>20</th>\n",
       "      <td>Owner_Type_Fourth &amp; Above</td>\n",
       "      <td>-1.234041e+00</td>\n",
       "    </tr>\n",
       "    <tr>\n",
       "      <th>21</th>\n",
       "      <td>Owner_Type_Second</td>\n",
       "      <td>-1.415357e-01</td>\n",
       "    </tr>\n",
       "    <tr>\n",
       "      <th>22</th>\n",
       "      <td>Owner_Type_Third</td>\n",
       "      <td>-1.138301e-01</td>\n",
       "    </tr>\n",
       "    <tr>\n",
       "      <th>23</th>\n",
       "      <td>Seats_2.0</td>\n",
       "      <td>8.477428e-01</td>\n",
       "    </tr>\n",
       "    <tr>\n",
       "      <th>24</th>\n",
       "      <td>Seats_4.0</td>\n",
       "      <td>1.700857e-01</td>\n",
       "    </tr>\n",
       "    <tr>\n",
       "      <th>25</th>\n",
       "      <td>Seats_5.0</td>\n",
       "      <td>7.364840e-02</td>\n",
       "    </tr>\n",
       "    <tr>\n",
       "      <th>26</th>\n",
       "      <td>Seats_6.0</td>\n",
       "      <td>4.819468e-01</td>\n",
       "    </tr>\n",
       "    <tr>\n",
       "      <th>27</th>\n",
       "      <td>Seats_7.0</td>\n",
       "      <td>3.407555e-01</td>\n",
       "    </tr>\n",
       "    <tr>\n",
       "      <th>28</th>\n",
       "      <td>Seats_8.0</td>\n",
       "      <td>5.484312e-02</td>\n",
       "    </tr>\n",
       "    <tr>\n",
       "      <th>29</th>\n",
       "      <td>Seats_9.0</td>\n",
       "      <td>-1.583774e+00</td>\n",
       "    </tr>\n",
       "    <tr>\n",
       "      <th>30</th>\n",
       "      <td>Seats_10.0</td>\n",
       "      <td>-3.852486e-01</td>\n",
       "    </tr>\n",
       "  </tbody>\n",
       "</table>\n",
       "</div>"
      ],
      "text/plain": [
       "                            0         Coefs\n",
       "0                        Year  2.468641e-01\n",
       "1           Kilometers_Driven -9.156508e-01\n",
       "2                     Mileage -1.179627e-01\n",
       "3                      Engine  1.178471e+00\n",
       "4                       Power  4.453148e+00\n",
       "5          Location_Bangalore  7.562835e-02\n",
       "6            Location_Chennai -2.124618e-01\n",
       "7         Location_Coimbatore  3.011324e-01\n",
       "8              Location_Delhi -3.749721e-01\n",
       "9          Location_Hyderabad  1.478399e-01\n",
       "10            Location_Jaipur -2.462397e-01\n",
       "11             Location_Kochi -1.242860e-01\n",
       "12           Location_Kolkata -1.032497e+00\n",
       "13            Location_Mumbai -3.303432e-01\n",
       "14              Location_Pune -2.083168e-01\n",
       "15           Fuel_Type_Diesel  1.323142e+00\n",
       "16         Fuel_Type_Electric  1.110223e-15\n",
       "17              Fuel_Type_LPG  3.209182e-01\n",
       "18           Fuel_Type_Petrol  2.174829e-01\n",
       "19        Transmission_Manual -8.516413e-01\n",
       "20  Owner_Type_Fourth & Above -1.234041e+00\n",
       "21          Owner_Type_Second -1.415357e-01\n",
       "22           Owner_Type_Third -1.138301e-01\n",
       "23                  Seats_2.0  8.477428e-01\n",
       "24                  Seats_4.0  1.700857e-01\n",
       "25                  Seats_5.0  7.364840e-02\n",
       "26                  Seats_6.0  4.819468e-01\n",
       "27                  Seats_7.0  3.407555e-01\n",
       "28                  Seats_8.0  5.484312e-02\n",
       "29                  Seats_9.0 -1.583774e+00\n",
       "30                 Seats_10.0 -3.852486e-01"
      ]
     },
     "execution_count": 42,
     "metadata": {},
     "output_type": "execute_result"
    }
   ],
   "source": [
    "coefficient"
   ]
  },
  {
   "cell_type": "markdown",
   "metadata": {},
   "source": [
    "## RMSE for training set"
   ]
  },
  {
   "cell_type": "code",
   "execution_count": null,
   "metadata": {
    "scrolled": true
   },
   "outputs": [],
   "source": [
    "np.sqrt(mean_squared_error(y_test,regression_model.predict(X_test)))"
   ]
  },
  {
   "cell_type": "markdown",
   "metadata": {},
   "source": [
    "## MAE for training set"
   ]
  },
  {
   "cell_type": "code",
   "execution_count": null,
   "metadata": {},
   "outputs": [],
   "source": [
    "(mean_squared_error(y_test,regression_model.predict(X_test)))"
   ]
  },
  {
   "cell_type": "code",
   "execution_count": null,
   "metadata": {},
   "outputs": [],
   "source": [
    "## Another method of gathering R^2, Adjusted R^2, Coefficients, \n",
    "X_con=sm.add_constant(X)\n",
    "X_trainc, X_testc, y_trainc, y_testc = train_test_split(X_con, Y, test_size=0.30 , random_state=1)"
   ]
  },
  {
   "cell_type": "code",
   "execution_count": null,
   "metadata": {
    "scrolled": true
   },
   "outputs": [],
   "source": [
    "# As noted below, there is a strong multicollinearity problem, implying that further analysis will have to be performed on this data for a smoother fit.\n",
    "model = sm.OLS(y_trainc,X_trainc).fit()\n",
    "model.summary()"
   ]
  },
  {
   "cell_type": "markdown",
   "metadata": {},
   "source": [
    "## Business Insights/Conclusion"
   ]
  },
  {
   "cell_type": "code",
   "execution_count": 43,
   "metadata": {},
   "outputs": [
    {
     "data": {
      "text/html": [
       "<div>\n",
       "<style scoped>\n",
       "    .dataframe tbody tr th:only-of-type {\n",
       "        vertical-align: middle;\n",
       "    }\n",
       "\n",
       "    .dataframe tbody tr th {\n",
       "        vertical-align: top;\n",
       "    }\n",
       "\n",
       "    .dataframe thead th {\n",
       "        text-align: right;\n",
       "    }\n",
       "</style>\n",
       "<table border=\"1\" class=\"dataframe\">\n",
       "  <thead>\n",
       "    <tr style=\"text-align: right;\">\n",
       "      <th></th>\n",
       "      <th>0</th>\n",
       "      <th>Coefs</th>\n",
       "    </tr>\n",
       "  </thead>\n",
       "  <tbody>\n",
       "    <tr>\n",
       "      <th>0</th>\n",
       "      <td>Year</td>\n",
       "      <td>2.468641e-01</td>\n",
       "    </tr>\n",
       "    <tr>\n",
       "      <th>1</th>\n",
       "      <td>Kilometers_Driven</td>\n",
       "      <td>-9.156508e-01</td>\n",
       "    </tr>\n",
       "    <tr>\n",
       "      <th>2</th>\n",
       "      <td>Mileage</td>\n",
       "      <td>-1.179627e-01</td>\n",
       "    </tr>\n",
       "    <tr>\n",
       "      <th>3</th>\n",
       "      <td>Engine</td>\n",
       "      <td>1.178471e+00</td>\n",
       "    </tr>\n",
       "    <tr>\n",
       "      <th>4</th>\n",
       "      <td>Power</td>\n",
       "      <td>4.453148e+00</td>\n",
       "    </tr>\n",
       "    <tr>\n",
       "      <th>5</th>\n",
       "      <td>Location_Bangalore</td>\n",
       "      <td>7.562835e-02</td>\n",
       "    </tr>\n",
       "    <tr>\n",
       "      <th>6</th>\n",
       "      <td>Location_Chennai</td>\n",
       "      <td>-2.124618e-01</td>\n",
       "    </tr>\n",
       "    <tr>\n",
       "      <th>7</th>\n",
       "      <td>Location_Coimbatore</td>\n",
       "      <td>3.011324e-01</td>\n",
       "    </tr>\n",
       "    <tr>\n",
       "      <th>8</th>\n",
       "      <td>Location_Delhi</td>\n",
       "      <td>-3.749721e-01</td>\n",
       "    </tr>\n",
       "    <tr>\n",
       "      <th>9</th>\n",
       "      <td>Location_Hyderabad</td>\n",
       "      <td>1.478399e-01</td>\n",
       "    </tr>\n",
       "    <tr>\n",
       "      <th>10</th>\n",
       "      <td>Location_Jaipur</td>\n",
       "      <td>-2.462397e-01</td>\n",
       "    </tr>\n",
       "    <tr>\n",
       "      <th>11</th>\n",
       "      <td>Location_Kochi</td>\n",
       "      <td>-1.242860e-01</td>\n",
       "    </tr>\n",
       "    <tr>\n",
       "      <th>12</th>\n",
       "      <td>Location_Kolkata</td>\n",
       "      <td>-1.032497e+00</td>\n",
       "    </tr>\n",
       "    <tr>\n",
       "      <th>13</th>\n",
       "      <td>Location_Mumbai</td>\n",
       "      <td>-3.303432e-01</td>\n",
       "    </tr>\n",
       "    <tr>\n",
       "      <th>14</th>\n",
       "      <td>Location_Pune</td>\n",
       "      <td>-2.083168e-01</td>\n",
       "    </tr>\n",
       "    <tr>\n",
       "      <th>15</th>\n",
       "      <td>Fuel_Type_Diesel</td>\n",
       "      <td>1.323142e+00</td>\n",
       "    </tr>\n",
       "    <tr>\n",
       "      <th>16</th>\n",
       "      <td>Fuel_Type_Electric</td>\n",
       "      <td>1.110223e-15</td>\n",
       "    </tr>\n",
       "    <tr>\n",
       "      <th>17</th>\n",
       "      <td>Fuel_Type_LPG</td>\n",
       "      <td>3.209182e-01</td>\n",
       "    </tr>\n",
       "    <tr>\n",
       "      <th>18</th>\n",
       "      <td>Fuel_Type_Petrol</td>\n",
       "      <td>2.174829e-01</td>\n",
       "    </tr>\n",
       "    <tr>\n",
       "      <th>19</th>\n",
       "      <td>Transmission_Manual</td>\n",
       "      <td>-8.516413e-01</td>\n",
       "    </tr>\n",
       "    <tr>\n",
       "      <th>20</th>\n",
       "      <td>Owner_Type_Fourth &amp; Above</td>\n",
       "      <td>-1.234041e+00</td>\n",
       "    </tr>\n",
       "    <tr>\n",
       "      <th>21</th>\n",
       "      <td>Owner_Type_Second</td>\n",
       "      <td>-1.415357e-01</td>\n",
       "    </tr>\n",
       "    <tr>\n",
       "      <th>22</th>\n",
       "      <td>Owner_Type_Third</td>\n",
       "      <td>-1.138301e-01</td>\n",
       "    </tr>\n",
       "    <tr>\n",
       "      <th>23</th>\n",
       "      <td>Seats_2.0</td>\n",
       "      <td>8.477428e-01</td>\n",
       "    </tr>\n",
       "    <tr>\n",
       "      <th>24</th>\n",
       "      <td>Seats_4.0</td>\n",
       "      <td>1.700857e-01</td>\n",
       "    </tr>\n",
       "    <tr>\n",
       "      <th>25</th>\n",
       "      <td>Seats_5.0</td>\n",
       "      <td>7.364840e-02</td>\n",
       "    </tr>\n",
       "    <tr>\n",
       "      <th>26</th>\n",
       "      <td>Seats_6.0</td>\n",
       "      <td>4.819468e-01</td>\n",
       "    </tr>\n",
       "    <tr>\n",
       "      <th>27</th>\n",
       "      <td>Seats_7.0</td>\n",
       "      <td>3.407555e-01</td>\n",
       "    </tr>\n",
       "    <tr>\n",
       "      <th>28</th>\n",
       "      <td>Seats_8.0</td>\n",
       "      <td>5.484312e-02</td>\n",
       "    </tr>\n",
       "    <tr>\n",
       "      <th>29</th>\n",
       "      <td>Seats_9.0</td>\n",
       "      <td>-1.583774e+00</td>\n",
       "    </tr>\n",
       "    <tr>\n",
       "      <th>30</th>\n",
       "      <td>Seats_10.0</td>\n",
       "      <td>-3.852486e-01</td>\n",
       "    </tr>\n",
       "  </tbody>\n",
       "</table>\n",
       "</div>"
      ],
      "text/plain": [
       "                            0         Coefs\n",
       "0                        Year  2.468641e-01\n",
       "1           Kilometers_Driven -9.156508e-01\n",
       "2                     Mileage -1.179627e-01\n",
       "3                      Engine  1.178471e+00\n",
       "4                       Power  4.453148e+00\n",
       "5          Location_Bangalore  7.562835e-02\n",
       "6            Location_Chennai -2.124618e-01\n",
       "7         Location_Coimbatore  3.011324e-01\n",
       "8              Location_Delhi -3.749721e-01\n",
       "9          Location_Hyderabad  1.478399e-01\n",
       "10            Location_Jaipur -2.462397e-01\n",
       "11             Location_Kochi -1.242860e-01\n",
       "12           Location_Kolkata -1.032497e+00\n",
       "13            Location_Mumbai -3.303432e-01\n",
       "14              Location_Pune -2.083168e-01\n",
       "15           Fuel_Type_Diesel  1.323142e+00\n",
       "16         Fuel_Type_Electric  1.110223e-15\n",
       "17              Fuel_Type_LPG  3.209182e-01\n",
       "18           Fuel_Type_Petrol  2.174829e-01\n",
       "19        Transmission_Manual -8.516413e-01\n",
       "20  Owner_Type_Fourth & Above -1.234041e+00\n",
       "21          Owner_Type_Second -1.415357e-01\n",
       "22           Owner_Type_Third -1.138301e-01\n",
       "23                  Seats_2.0  8.477428e-01\n",
       "24                  Seats_4.0  1.700857e-01\n",
       "25                  Seats_5.0  7.364840e-02\n",
       "26                  Seats_6.0  4.819468e-01\n",
       "27                  Seats_7.0  3.407555e-01\n",
       "28                  Seats_8.0  5.484312e-02\n",
       "29                  Seats_9.0 -1.583774e+00\n",
       "30                 Seats_10.0 -3.852486e-01"
      ]
     },
     "execution_count": 43,
     "metadata": {},
     "output_type": "execute_result"
    }
   ],
   "source": [
    "coefficient"
   ]
  },
  {
   "cell_type": "markdown",
   "metadata": {},
   "source": [
    "- I was able to fit a linear regression model with an accuracy of 76% and 77% respectively across the training and tesing data by removing outliers and using a log transformation.  \n",
    "- As year increases, the price of a car also increases, implying that newer cars are more desirable.\n",
    "- As price increases, the Kilometers_Driven decreases significantly implying that lower mileage cars are more valueable. \n",
    "- As price increases, engine output and power output also increase, showing that more powerful cars are desirable. \n",
    "- For location, it seems that Bangalore has overpriced cars while Delhi and Mumbai have cheaper cars. \n",
    "- Electric cars seem to be priced more fairly relative to cars of other fuel types \n",
    "- As price increases, manual transmisson cars decrease significantly, implying that automatic cars are more desirable. \n",
    "- Finally, as the number of seats increases, price increases dramatically. Although there is an opposite shift when there are 10 seats. "
   ]
  }
 ],
 "metadata": {
  "kernelspec": {
   "display_name": "Python 3",
   "language": "python",
   "name": "python3"
  },
  "language_info": {
   "codemirror_mode": {
    "name": "ipython",
    "version": 3
   },
   "file_extension": ".py",
   "mimetype": "text/x-python",
   "name": "python",
   "nbconvert_exporter": "python",
   "pygments_lexer": "ipython3",
   "version": "3.8.5"
  }
 },
 "nbformat": 4,
 "nbformat_minor": 4
}
